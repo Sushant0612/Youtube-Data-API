{
 "cells": [
  {
   "cell_type": "code",
   "execution_count": 1,
   "metadata": {},
   "outputs": [],
   "source": [
    "from googleapiclient.discovery import build\n",
    "import json\n",
    "import os\n",
    "api_key=os.environ.get('API Key') \n",
    "api_service_name = \"youtube\"\n",
    "api_version = \"v3\""
   ]
  },
  {
   "cell_type": "markdown",
   "metadata": {},
   "source": [
    "### Here i am fetching youtuber's channel statistics"
   ]
  },
  {
   "cell_type": "code",
   "execution_count": 2,
   "metadata": {
    "scrolled": true
   },
   "outputs": [
    {
     "name": "stdout",
     "output_type": "stream",
     "text": [
      "{\n",
      "    \"etag\": \"xEi0jakb6HLVkkGGq0VV_DPqlOc\",\n",
      "    \"items\": [\n",
      "        {\n",
      "            \"etag\": \"nUJn46KT0M1aM0n5nVhwc3JI_4I\",\n",
      "            \"id\": \"UCCezIgC97PvUuR4_gbFUs5g\",\n",
      "            \"kind\": \"youtube#channel\",\n",
      "            \"statistics\": {\n",
      "                \"hiddenSubscriberCount\": false,\n",
      "                \"subscriberCount\": \"713000\",\n",
      "                \"videoCount\": \"230\",\n",
      "                \"viewCount\": \"51772561\"\n",
      "            }\n",
      "        }\n",
      "    ],\n",
      "    \"kind\": \"youtube#channelListResponse\",\n",
      "    \"pageInfo\": {\n",
      "        \"resultsPerPage\": 5,\n",
      "        \"totalResults\": 1\n",
      "    }\n",
      "}\n"
     ]
    }
   ],
   "source": [
    "youtube = build(api_service_name,api_version,developerKey=api_key)\n",
    "request=youtube.channels().list(part='statistics',id='UCCezIgC97PvUuR4_gbFUs5g')\n",
    "response=request.execute()\n",
    "\n",
    "print (json.dumps(response, sort_keys=True, indent=4))"
   ]
  },
  {
   "cell_type": "markdown",
   "metadata": {},
   "source": [
    "### Fetching all video Ids and titles"
   ]
  },
  {
   "cell_type": "code",
   "execution_count": 3,
   "metadata": {},
   "outputs": [
    {
     "name": "stdout",
     "output_type": "stream",
     "text": [
      "['vQQEaSnQ_bs', '1KO_HZtHOWI', 'coZbOM6E47I', 'th5_9woFJmk', 'RO6JxDOVwLQ', 'N6hyN6BW6ao', '0Q_8taHAuQQ', 'UFuo7EHI8zc', 'KdmPHEnPJPs', 'txMdrV1Ut64', 'T11QYVfZoD0', 'HQ6XO9eT-fc', 'DCDe29sIKcE', 'Lw2rlcxScZY', 'W9XjRYFkkyw', 'zmdjNSmRXF4', 'ZyhVh-qRZPA', 'z0gguhEmWiY', '_P7X8tMplsw', 'fKl2JW_qrso', 'IEEhzQoKtQU', 'mO_dS3rXDIs', '2Fp1N6dof0Y', 'XFZRVnP-MTU', 'Ercd-Ip5PfQ', '_LWjaAiKaf8', 'zZZ_RCwp49g', 'XDv6T4a0RNc', 'x0Uguu7gqgk', 'xN-Supd4H38', 'MPiz50TsyF0', 'nKxLfUrkLE8', 'UO98lJQ3QGI', '-nh9rCzPJ20', '06I63_p-2A4', '_JGmemuINww', 'zdJEYhA2AZQ', 'kIdiWut8eD8', '1lxrb_ezP-g', 'SELYgZvAZbU', 'APOPm01BVrk', 'Kg1Yvry_Ydk', 'C-gEQdGVXbk', 'JRCJ6RtE3xU', 'a6fIbtFB46g', 'yqm6MBt-yfY', 'tb8gHvYlCFs', '6DI_7Zja8Zc', 'kt3ZtW9MXhw', 'NhidVhNHfeU']\n",
      "\n",
      "\n",
      "['Python YouTube API Tutorial: Using OAuth to Access User Accounts', 'Python YouTube API Tutorial: Sort a Playlist by Most Popular Videos', 'Python YouTube API Tutorial: Calculating the Duration of a Playlist', 'Python YouTube API Tutorial: Getting Started - Creating an API Key and Querying the API', 'Python Tutorial: Real World Example - Using Patreon API and Pillow to Automate Image Creation']\n",
      "\n",
      "\n",
      "50\n"
     ]
    }
   ],
   "source": [
    "video_ids=[]\n",
    "titles=[]\n",
    "playlist=youtube.playlistItems().list(part='snippet,contentDetails',playlistId='UUCezIgC97PvUuR4_gbFUs5g',maxResults=50).execute()\n",
    "for item in (playlist['items']):\n",
    "        video_ids.append(item['contentDetails']['videoId'])\n",
    "        titles.append(item['snippet']['title'])\n",
    "        \n",
    "print(video_ids)\n",
    "print('\\n')\n",
    "print(titles[:5])\n",
    "print('\\n')\n",
    "print(len(video_ids)) # lenght of video_ids, it shows only 50 results per request"
   ]
  },
  {
   "cell_type": "markdown",
   "metadata": {},
   "source": [
    "### Fetching more than 50 results using pageToken"
   ]
  },
  {
   "cell_type": "code",
   "execution_count": 4,
   "metadata": {},
   "outputs": [],
   "source": [
    "# Since we have 230 videos in our channel but we can only fetch 50 results per request so i used page\n",
    "# token to get more than 50 results\n",
    "videoIds=[]\n",
    "nxt_pg_tkn=None\n",
    "while True:\n",
    "    plylist=youtube.playlistItems().list(part='contentDetails',playlistId='UUCezIgC97PvUuR4_gbFUs5g',maxResults=50,pageToken=nxt_pg_tkn).execute()\n",
    "#     print(json.dumps(playlist, sort_keys=True, indent=4))\n",
    "    for n,item in enumerate(plylist['items']):\n",
    "#         print(n,item['contentDetails']['videoId'])\n",
    "        videoIds.append(item['contentDetails']['videoId'])\n",
    "    nxt_pg_tkn=plylist.get('nextPageToken')\n",
    "    if nxt_pg_tkn is None:\n",
    "        break"
   ]
  },
  {
   "cell_type": "code",
   "execution_count": 5,
   "metadata": {},
   "outputs": [
    {
     "data": {
      "text/plain": [
       "230"
      ]
     },
     "execution_count": 5,
     "metadata": {},
     "output_type": "execute_result"
    }
   ],
   "source": [
    "len(videoIds)"
   ]
  },
  {
   "cell_type": "markdown",
   "metadata": {},
   "source": [
    "### Now fetching all 230 video ids details"
   ]
  },
  {
   "cell_type": "code",
   "execution_count": 6,
   "metadata": {},
   "outputs": [
    {
     "name": "stdout",
     "output_type": "stream",
     "text": [
      "['A', 'B', 'C', 'D', 'E']\n",
      "['F', 'G', 'H', 'I', 'J']\n",
      "['K', 'L', 'Z', 'l', 'p']\n",
      "['a', 'v', 'r', 'g', 'y']\n",
      "4 0\n",
      "20\n"
     ]
    }
   ],
   "source": [
    "# there is a problem during fetching videos details because we can get only 50 respose per request\n",
    "# to overcome this problem i made chunks of 50 elements each\n",
    "# ------------------------------------------EXAMPLE-----------------------------------------------\n",
    "alpha=['A', 'B', 'C', 'D', 'E', 'F', 'G', 'H', 'I', 'J', 'K', 'L','Z','l','p','a','v','r','g','y']\n",
    "chunks_size=5\n",
    "quotient,reminder=divmod(len(alpha),chunks_size)\n",
    "n=0\n",
    "if reminder==0:\n",
    "    for i in range(quotient):\n",
    "        print(alpha[n:n+5])\n",
    "        n=n+5\n",
    "elif reminder>0:\n",
    "    for i in range(quotient+1):\n",
    "        print(alpha[n:n+5])\n",
    "        n=n+5\n",
    "print(quotient,reminder)\n",
    "print(len(alpha))"
   ]
  },
  {
   "cell_type": "code",
   "execution_count": 7,
   "metadata": {},
   "outputs": [
    {
     "name": "stdout",
     "output_type": "stream",
     "text": [
      "5\n",
      "['vQQEaSnQ_bs', '1KO_HZtHOWI', 'coZbOM6E47I', 'th5_9woFJmk', 'RO6JxDOVwLQ', 'N6hyN6BW6ao', '0Q_8taHAuQQ', 'UFuo7EHI8zc', 'KdmPHEnPJPs', 'txMdrV1Ut64', 'T11QYVfZoD0', 'HQ6XO9eT-fc', 'DCDe29sIKcE', 'Lw2rlcxScZY', 'W9XjRYFkkyw', 'zmdjNSmRXF4', 'ZyhVh-qRZPA', 'z0gguhEmWiY', '_P7X8tMplsw', 'fKl2JW_qrso', 'IEEhzQoKtQU', 'mO_dS3rXDIs', '2Fp1N6dof0Y', 'XFZRVnP-MTU', 'Ercd-Ip5PfQ', '_LWjaAiKaf8', 'zZZ_RCwp49g', 'XDv6T4a0RNc', 'x0Uguu7gqgk', 'xN-Supd4H38', 'MPiz50TsyF0', 'nKxLfUrkLE8', 'UO98lJQ3QGI', '-nh9rCzPJ20', '06I63_p-2A4', '_JGmemuINww', 'zdJEYhA2AZQ', 'kIdiWut8eD8', '1lxrb_ezP-g', 'SELYgZvAZbU', 'APOPm01BVrk', 'Kg1Yvry_Ydk', 'C-gEQdGVXbk', 'JRCJ6RtE3xU', 'a6fIbtFB46g', 'yqm6MBt-yfY', 'tb8gHvYlCFs', '6DI_7Zja8Zc', 'kt3ZtW9MXhw', 'NhidVhNHfeU']\n",
      "50\n"
     ]
    }
   ],
   "source": [
    "q,r=divmod(len(videoIds),50)\n",
    "x=0\n",
    "chunks=[]\n",
    "if r==0:\n",
    "    for i in range(q):\n",
    "        chunks.append(videoIds[x:x+50])\n",
    "        x=x+50\n",
    "elif r>0:\n",
    "    for i in range(q+1):\n",
    "        chunks.append(videoIds[x:x+50])\n",
    "        x=x+50\n",
    "\n",
    "print(len(chunks))\n",
    "print(chunks[0])\n",
    "print(len(chunks[0]))"
   ]
  },
  {
   "cell_type": "code",
   "execution_count": 8,
   "metadata": {},
   "outputs": [],
   "source": [
    "import pandas as pd\n",
    "view_count=[]\n",
    "title=[]\n",
    "for chunk in chunks:\n",
    "    videos=youtube.videos().list(part='snippet,statistics',id=','.join(chunk)).execute()\n",
    "    for item in videos['items']:\n",
    "        view_count.append(item['statistics']['viewCount'])\n",
    "        title.append(item['snippet']['title'])\n",
    "df=pd.DataFrame({'view':view_count,'title':title})"
   ]
  },
  {
   "cell_type": "code",
   "execution_count": 9,
   "metadata": {
    "scrolled": true
   },
   "outputs": [
    {
     "data": {
      "text/plain": [
       "(230, 2)"
      ]
     },
     "execution_count": 9,
     "metadata": {},
     "output_type": "execute_result"
    }
   ],
   "source": [
    "df.shape"
   ]
  },
  {
   "cell_type": "code",
   "execution_count": 10,
   "metadata": {},
   "outputs": [
    {
     "data": {
      "text/html": [
       "<div>\n",
       "<style scoped>\n",
       "    .dataframe tbody tr th:only-of-type {\n",
       "        vertical-align: middle;\n",
       "    }\n",
       "\n",
       "    .dataframe tbody tr th {\n",
       "        vertical-align: top;\n",
       "    }\n",
       "\n",
       "    .dataframe thead th {\n",
       "        text-align: right;\n",
       "    }\n",
       "</style>\n",
       "<table border=\"1\" class=\"dataframe\">\n",
       "  <thead>\n",
       "    <tr style=\"text-align: right;\">\n",
       "      <th></th>\n",
       "      <th>view</th>\n",
       "      <th>title</th>\n",
       "    </tr>\n",
       "  </thead>\n",
       "  <tbody>\n",
       "    <tr>\n",
       "      <th>0</th>\n",
       "      <td>30091</td>\n",
       "      <td>Python YouTube API Tutorial: Using OAuth to Ac...</td>\n",
       "    </tr>\n",
       "    <tr>\n",
       "      <th>1</th>\n",
       "      <td>19629</td>\n",
       "      <td>Python YouTube API Tutorial: Sort a Playlist b...</td>\n",
       "    </tr>\n",
       "    <tr>\n",
       "      <th>2</th>\n",
       "      <td>26194</td>\n",
       "      <td>Python YouTube API Tutorial: Calculating the D...</td>\n",
       "    </tr>\n",
       "    <tr>\n",
       "      <th>3</th>\n",
       "      <td>67852</td>\n",
       "      <td>Python YouTube API Tutorial: Getting Started -...</td>\n",
       "    </tr>\n",
       "    <tr>\n",
       "      <th>4</th>\n",
       "      <td>24255</td>\n",
       "      <td>Python Tutorial: Real World Example - Using Pa...</td>\n",
       "    </tr>\n",
       "  </tbody>\n",
       "</table>\n",
       "</div>"
      ],
      "text/plain": [
       "    view                                              title\n",
       "0  30091  Python YouTube API Tutorial: Using OAuth to Ac...\n",
       "1  19629  Python YouTube API Tutorial: Sort a Playlist b...\n",
       "2  26194  Python YouTube API Tutorial: Calculating the D...\n",
       "3  67852  Python YouTube API Tutorial: Getting Started -...\n",
       "4  24255  Python Tutorial: Real World Example - Using Pa..."
      ]
     },
     "execution_count": 10,
     "metadata": {},
     "output_type": "execute_result"
    }
   ],
   "source": [
    "df.head()"
   ]
  },
  {
   "cell_type": "code",
   "execution_count": 11,
   "metadata": {},
   "outputs": [],
   "source": [
    "df['view']=df['view'].astype('int')"
   ]
  },
  {
   "cell_type": "code",
   "execution_count": 12,
   "metadata": {},
   "outputs": [
    {
     "data": {
      "text/plain": [
       "140    2480816\n",
       "120    1652050\n",
       "181    1564032\n",
       "202    1348762\n",
       "70     1240833\n",
       "130    1183903\n",
       "89     1065171\n",
       "Name: view, dtype: int32"
      ]
     },
     "execution_count": 12,
     "metadata": {},
     "output_type": "execute_result"
    }
   ],
   "source": [
    "top_7=df['view'].nlargest(7) # top 7 popular videos\n",
    "top_7"
   ]
  },
  {
   "cell_type": "code",
   "execution_count": 13,
   "metadata": {},
   "outputs": [
    {
     "data": {
      "text/html": [
       "<div>\n",
       "<style scoped>\n",
       "    .dataframe tbody tr th:only-of-type {\n",
       "        vertical-align: middle;\n",
       "    }\n",
       "\n",
       "    .dataframe tbody tr th {\n",
       "        vertical-align: top;\n",
       "    }\n",
       "\n",
       "    .dataframe thead th {\n",
       "        text-align: right;\n",
       "    }\n",
       "</style>\n",
       "<table border=\"1\" class=\"dataframe\">\n",
       "  <thead>\n",
       "    <tr style=\"text-align: right;\">\n",
       "      <th></th>\n",
       "      <th>view</th>\n",
       "      <th>title</th>\n",
       "    </tr>\n",
       "  </thead>\n",
       "  <tbody>\n",
       "    <tr>\n",
       "      <th>140</th>\n",
       "      <td>2480816</td>\n",
       "      <td>Python OOP Tutorial 1: Classes and Instances</td>\n",
       "    </tr>\n",
       "    <tr>\n",
       "      <th>120</th>\n",
       "      <td>1652050</td>\n",
       "      <td>Python Tutorial for Beginners 1: Install and S...</td>\n",
       "    </tr>\n",
       "    <tr>\n",
       "      <th>181</th>\n",
       "      <td>1564032</td>\n",
       "      <td>Git Tutorial for Beginners: Command-Line Funda...</td>\n",
       "    </tr>\n",
       "    <tr>\n",
       "      <th>202</th>\n",
       "      <td>1348762</td>\n",
       "      <td>Python Tutorial: if __name__ == '__main__'</td>\n",
       "    </tr>\n",
       "    <tr>\n",
       "      <th>70</th>\n",
       "      <td>1240833</td>\n",
       "      <td>Python Django Tutorial: Full-Featured Web App ...</td>\n",
       "    </tr>\n",
       "    <tr>\n",
       "      <th>130</th>\n",
       "      <td>1183903</td>\n",
       "      <td>Jupyter Notebook Tutorial: Introduction, Setup...</td>\n",
       "    </tr>\n",
       "    <tr>\n",
       "      <th>89</th>\n",
       "      <td>1065171</td>\n",
       "      <td>Python Flask Tutorial: Full-Featured Web App P...</td>\n",
       "    </tr>\n",
       "  </tbody>\n",
       "</table>\n",
       "</div>"
      ],
      "text/plain": [
       "        view                                              title\n",
       "140  2480816       Python OOP Tutorial 1: Classes and Instances\n",
       "120  1652050  Python Tutorial for Beginners 1: Install and S...\n",
       "181  1564032  Git Tutorial for Beginners: Command-Line Funda...\n",
       "202  1348762         Python Tutorial: if __name__ == '__main__'\n",
       "70   1240833  Python Django Tutorial: Full-Featured Web App ...\n",
       "130  1183903  Jupyter Notebook Tutorial: Introduction, Setup...\n",
       "89   1065171  Python Flask Tutorial: Full-Featured Web App P..."
      ]
     },
     "execution_count": 13,
     "metadata": {},
     "output_type": "execute_result"
    }
   ],
   "source": [
    "user=df[df['view'].isin(top_7)]\n",
    "user.sort_values(by=['view'],ascending=False)"
   ]
  }
 ],
 "metadata": {
  "kernelspec": {
   "display_name": "Python 3",
   "language": "python",
   "name": "python3"
  },
  "language_info": {
   "codemirror_mode": {
    "name": "ipython",
    "version": 3
   },
   "file_extension": ".py",
   "mimetype": "text/x-python",
   "name": "python",
   "nbconvert_exporter": "python",
   "pygments_lexer": "ipython3",
   "version": "3.8.5"
  }
 },
 "nbformat": 4,
 "nbformat_minor": 4
}
